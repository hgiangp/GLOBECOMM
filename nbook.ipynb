{
 "cells": [
  {
   "cell_type": "code",
   "execution_count": null,
   "metadata": {},
   "outputs": [
    {
     "ename": "",
     "evalue": "",
     "output_type": "error",
     "traceback": [
      "\u001b[1;31mFailed to start the Kernel. \n",
      "spawn /conda ENOENT. \n",
      "View Jupyter <a href='command:jupyter.viewOutput'>log</a> for further details."
     ]
    }
   ],
   "source": [
    "import numpy as np \n",
    "from sklearn.preprocessing import StandardScaler, MinMaxScaler\n",
    "\n",
    "\n",
    "\n",
    "def preprocessing(data_in):\n",
    "    scaler = MinMaxScaler() \n",
    "    data = np.reshape(data_in, (-1, 1))\n",
    "    # fit scaler on data \n",
    "    scaler.fit(data)\n",
    "    normalized = scaler.transform(data)\n",
    "    normalized = normalized.reshape(1, -1)\n",
    "    return normalized"
   ]
  },
  {
   "cell_type": "code",
   "execution_count": null,
   "metadata": {},
   "outputs": [],
   "source": []
  },
  {
   "cell_type": "code",
   "execution_count": null,
   "metadata": {},
   "outputs": [],
   "source": [
    "from system_params import * \n",
    "import os \n",
    "\n",
    "def create_img_folder(): \n",
    "\n",
    "    path = \"{}/img/{}, V ={:.2e}, psi = {:.3e}, dth={:},lambda={:}/\".format(\n",
    "        os.getcwd(), opt_mode, LYA_V, PSI, D_TH, Amean)\n",
    "    os.makedirs(path, exist_ok=True)\n",
    "    print(f\"Directory {os.getcwd()}\")\n",
    "    return path\n",
    "\n",
    "path = create_img_folder()\n",
    "\n",
    "import pickle\n",
    "\n",
    "USERS_FILE = \"users.pickle\"\n",
    "SERVER_FILE = \"server.pickle\"\n",
    "\n",
    "def load_data_pickle(file_name): \n",
    "    with open(file_name, 'rb') as handle:\n",
    "        object = pickle.load(handle)\n",
    "    return object \n",
    "\n",
    "users = load_data_pickle(file_name=path + USERS_FILE)\n",
    "\n",
    "print(\"finish\")"
   ]
  },
  {
   "cell_type": "code",
   "execution_count": 3,
   "metadata": {},
   "outputs": [
    {
     "data": {
      "text/plain": [
       "(5,)"
      ]
     },
     "execution_count": 3,
     "metadata": {},
     "output_type": "execute_result"
    }
   ],
   "source": [
    "import numpy as np \n",
    "b = np.zeros((5))\n",
    "b\n",
    "b.shape"
   ]
  },
  {
   "cell_type": "code",
   "execution_count": null,
   "metadata": {},
   "outputs": [],
   "source": []
  }
 ],
 "metadata": {
  "interpreter": {
   "hash": "9314392a710ead216c19df9b6a11594586ee984e3e954894e5eba350bf4e65ce"
  },
  "kernelspec": {
   "display_name": "Python 3.8.13 ('pytorch_env')",
   "language": "python",
   "name": "python3"
  },
  "language_info": {
   "codemirror_mode": {
    "name": "ipython",
    "version": 3
   },
   "file_extension": ".py",
   "mimetype": "text/x-python",
   "name": "python",
   "nbconvert_exporter": "python",
   "pygments_lexer": "ipython3",
   "version": "3.8.13"
  },
  "orig_nbformat": 4
 },
 "nbformat": 4,
 "nbformat_minor": 2
}
